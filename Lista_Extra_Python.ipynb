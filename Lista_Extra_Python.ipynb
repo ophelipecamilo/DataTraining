{
  "cells": [
    {
      "cell_type": "markdown",
      "metadata": {
        "id": "view-in-github",
        "colab_type": "text"
      },
      "source": [
        "<a href=\"https://colab.research.google.com/github/ophelipecamilo/DataTraining/blob/main/Lista_Extra_Python.ipynb\" target=\"_parent\"><img src=\"https://colab.research.google.com/assets/colab-badge.svg\" alt=\"Open In Colab\"/></a>"
      ]
    },
    {
      "cell_type": "markdown",
      "metadata": {
        "id": "t8qG28pDnfuM"
      },
      "source": [
        "# Exercícios - Python "
      ]
    },
    {
      "cell_type": "markdown",
      "metadata": {
        "id": "N9fXnHvPnfuN"
      },
      "source": [
        "1) Imprima a frase \"Eu sou Dexteeer!\""
      ]
    },
    {
      "cell_type": "markdown",
      "metadata": {
        "id": "dK5aLDPDnfuO"
      },
      "source": [
        "2) Faça operações matemáticas de soma, subtração, multiplicação e divisão."
      ]
    },
    {
      "cell_type": "markdown",
      "metadata": {
        "id": "Y1hfyqi3nfuO"
      },
      "source": [
        "3) Imprima o tipo de um determinado valor inteiro."
      ]
    },
    {
      "cell_type": "markdown",
      "metadata": {
        "id": "lpMenLb2nfuP"
      },
      "source": [
        "4) Converta o valor passado anteriormente para o tipo float"
      ]
    },
    {
      "cell_type": "markdown",
      "metadata": {
        "id": "L3naneHLnfuP"
      },
      "source": [
        "5) Faça a conversão do valor float recebido anteriormente para o tipo string"
      ]
    },
    {
      "cell_type": "markdown",
      "metadata": {
        "id": "DfN6mDVonfuQ"
      },
      "source": [
        "6) Utilizando funções de arredonamento faça:\n",
        "- Arredonde o valor 2.898\n",
        "- Arredonde o valor 2.4545455 e exiba apenas 4 cadas decimais"
      ]
    },
    {
      "cell_type": "markdown",
      "metadata": {
        "id": "rKA0Gdl0nfuQ"
      },
      "source": [
        "7) Utilizando variáveis faça:\n",
        "- Defina uma variável com o seu nome e imprima o seu valor.\n",
        "- Imprima o tipo dessa variável.\n",
        "- Substitua o valor da sua variável nome com a concatenação do seu valor e o seu sobrenome, depois, imprima o novo valor.\n",
        "    - obs: O resultado dessa variável será Nome Sobrenome, exemplo, Felipe Santana.\n",
        "- Defina duas variaveis com os valores do seu email e idade com apenas uma linha de comando, depois, imprima seus valores."
      ]
    },
    {
      "cell_type": "markdown",
      "metadata": {
        "id": "Xj8LZ11infuR"
      },
      "source": [
        "8) Explique a causa do erro se executar a seguinte instrução para criar uma nova variável: break=10"
      ]
    },
    {
      "cell_type": "markdown",
      "metadata": {
        "id": "UipeTegTnfuS"
      },
      "source": [
        "9) Sobre os objetos Strings, faça:\n",
        "- Defina uma variavel com a string: \"Python é uma maldição!\" e imprima\n",
        "- Imprima o primeiro caracter da variavel.\n",
        "- Imprima os valores do primeiro caracter até o 6.\n",
        "- Faça a contagem de todos os caracteres utilizando uma única linha de comando.\n",
        "- Faça uma contagem de quantos vezes a palavra dados aparece na seguinte frase:\n",
        "    - \"dados é o novo petróleo, em Deus eu confio, para o resto me traga dados..\"\n",
        "- Substitua o primeiro caracter da frase acima para maiúsculo\n",
        "- Quebre as palavras da frase separado por virgula, criando uma lista."
      ]
    },
    {
      "cell_type": "markdown",
      "metadata": {
        "id": "sOfK05ypnfuS"
      },
      "source": [
        "10) Trabalhando com Listas, faça:\n",
        "- Cria uma lista de valores inteiros com o nome idades.\n",
        "- Imprima apenas segundo elemento da lista.\n",
        "- Imprima a contagem de valores da lista.\n",
        "- Substitua o valor do segundo elemento da lista e imprima o resultado.\n",
        "- Imprima apenas os valores do segundo elemento em diante.\n",
        "- Remova qualquer elemento da lista e imprima o resultado.\n",
        "- Defina uma lista chamada salarios com os valores : 900,1200,1500,800,12587,10000.\n",
        "- Verifique se contém o valor 10000 na lista de salarios.\n",
        "- Imprima o menor e maior valor da lista.\n",
        "- Adicione o valor 7000 a lista.\n",
        "- Extenda a lista com dois novos elementos utilizando apenas um método.\n",
        "- Imprima o índice do elemento de valor 800 da lista de salarios.\n",
        "- Faça uma ordenação dos valores da lista de salarios em ordem crescente e decrescente."
      ]
    }
  ],
  "metadata": {
    "colab": {
      "provenance": [],
      "include_colab_link": true
    },
    "kernelspec": {
      "display_name": "Python 3",
      "language": "python",
      "name": "python3"
    },
    "language_info": {
      "codemirror_mode": {
        "name": "ipython",
        "version": 3
      },
      "file_extension": ".py",
      "mimetype": "text/x-python",
      "name": "python",
      "nbconvert_exporter": "python",
      "pygments_lexer": "ipython3",
      "version": "3.6.5"
    }
  },
  "nbformat": 4,
  "nbformat_minor": 0
}